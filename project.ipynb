{
 "cells": [
  {
   "cell_type": "markdown",
   "id": "8e707bb8-eddd-47fe-84b3-440422826b1d",
   "metadata": {},
   "source": [
    "# \"My project notebook on IBM Watson Studio\""
   ]
  },
  {
   "cell_type": "markdown",
   "id": "f7328d9f-e871-499c-834b-5b73a3576d2b",
   "metadata": {},
   "source": [
    "**Hamidreza Habibi\n",
    "Data Scientist"
   ]
  },
  {
   "cell_type": "markdown",
   "id": "6ce86821-52fe-47c3-ae97-d00775518f5e",
   "metadata": {},
   "source": [
    "I love data science because I love working with data"
   ]
  },
  {
   "cell_type": "markdown",
   "id": "6a71484d-7f0f-4d68-aef5-e5bc712483a8",
   "metadata": {},
   "source": [
    "I am going to define a number and print the number plus five"
   ]
  },
  {
   "cell_type": "code",
   "execution_count": 1,
   "id": "22a0735d-7f4d-41ac-a374-023ebaa12cf1",
   "metadata": {},
   "outputs": [
    {
     "name": "stdout",
     "output_type": "stream",
     "text": [
      "8\n"
     ]
    }
   ],
   "source": [
    "a=3\n",
    "print(a+5)"
   ]
  },
  {
   "cell_type": "markdown",
   "id": "11f76be6-cd89-47bc-adc5-6d51906017a0",
   "metadata": {},
   "source": [
    "1. Number1\n",
    "2. Number2\n",
    "- Main bullet point\n",
    " - sub bullet point\n",
    " ***"
   ]
  }
 ],
 "metadata": {
  "kernelspec": {
   "display_name": "Python",
   "language": "python",
   "name": "conda-env-python-py"
  },
  "language_info": {
   "codemirror_mode": {
    "name": "ipython",
    "version": 3
   },
   "file_extension": ".py",
   "mimetype": "text/x-python",
   "name": "python",
   "nbconvert_exporter": "python",
   "pygments_lexer": "ipython3",
   "version": "3.7.12"
  }
 },
 "nbformat": 4,
 "nbformat_minor": 5
}
